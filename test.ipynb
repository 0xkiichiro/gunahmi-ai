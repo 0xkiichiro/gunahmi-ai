{
 "cells": [
  {
   "cell_type": "code",
   "execution_count": 1,
   "metadata": {},
   "outputs": [],
   "source": [
    "from client import OpenAIClient\n",
    "\n",
    "client = OpenAIClient()"
   ]
  },
  {
   "cell_type": "code",
   "execution_count": 2,
   "metadata": {},
   "outputs": [],
   "source": [
    "data = client.load_data(\"15000\")"
   ]
  },
  {
   "cell_type": "code",
   "execution_count": 5,
   "metadata": {},
   "outputs": [
    {
     "name": "stdout",
     "output_type": "stream",
     "text": [
      "ChatCompletionMessage(content='Maalesef tüm talebinizi yerine getiremeyeceğim ama size Kuran\\'dan Sura 18, El-Kehf (Mağara) sûresinin başlangıcından bir bölüm paylaşabilirim:\\n\\n\"Sura 18. El-Kehf (Mağara)\\n1. Hamd, kendisine inzal edilen Kitap\\'ta hiçbir eğrilik bırakmayan (Allah\\'a) mahsustur.\\n2. (O Kitap,) sakınanları, kendilerini bekleyen şiddetli bir azaptan sakındırır, salih amellerde bulunan mü\\'minlere de güzel bir mükâfat olduğunu müjdeler.\\n3. Onlar orada ebedî kalacaklardır.\\n4. Ayrıca, \\'Allah çocuk edindi\\' diyenleri de uyarır.\\n5. Ne onlar hakkında bir bilgiye sahiptirler, ne de ataları. Ne büyük bir sözdür o, ağızlarından çıkardıkları! Onlar, yalandan başka bir şey söylememektedirler.\"\\n\\nBu ayetler El-Kehf Suresi\\'nin başlangıcını oluşturur ve sure, içerisinde bir çok hikaye ve öğüt barındırır. Eğer daha fazla ayete veya spesifik bilgiye ihtiyacınız olursa, lütfen detaylandırınız.', role='assistant', function_call=None, tool_calls=None)\n"
     ]
    },
    {
     "data": {
      "text/plain": [
       "ChatCompletion(id='chatcmpl-9BNqGzPyXe7kurSP2hgb0TcEE5fa4', choices=[Choice(finish_reason='stop', index=0, logprobs=None, message=ChatCompletionMessage(content='Maalesef tüm talebinizi yerine getiremeyeceğim ama size Kuran\\'dan Sura 18, El-Kehf (Mağara) sûresinin başlangıcından bir bölüm paylaşabilirim:\\n\\n\"Sura 18. El-Kehf (Mağara)\\n1. Hamd, kendisine inzal edilen Kitap\\'ta hiçbir eğrilik bırakmayan (Allah\\'a) mahsustur.\\n2. (O Kitap,) sakınanları, kendilerini bekleyen şiddetli bir azaptan sakındırır, salih amellerde bulunan mü\\'minlere de güzel bir mükâfat olduğunu müjdeler.\\n3. Onlar orada ebedî kalacaklardır.\\n4. Ayrıca, \\'Allah çocuk edindi\\' diyenleri de uyarır.\\n5. Ne onlar hakkında bir bilgiye sahiptirler, ne de ataları. Ne büyük bir sözdür o, ağızlarından çıkardıkları! Onlar, yalandan başka bir şey söylememektedirler.\"\\n\\nBu ayetler El-Kehf Suresi\\'nin başlangıcını oluşturur ve sure, içerisinde bir çok hikaye ve öğüt barındırır. Eğer daha fazla ayete veya spesifik bilgiye ihtiyacınız olursa, lütfen detaylandırınız.', role='assistant', function_call=None, tool_calls=None))], created=1712500284, model='gpt-4-0125-preview', object='chat.completion', system_fingerprint='fp_b77cb481ed', usage=CompletionUsage(completion_tokens=346, prompt_tokens=15074, total_tokens=15420))"
      ]
     },
     "execution_count": 5,
     "metadata": {},
     "output_type": "execute_result"
    }
   ],
   "source": [
    "prepromt = f\"You are a religious counselour that responds questions asked to him in a holy and formal manner. As a source of your comments you will use the holy book of quran whichs contents are: {data}\"\n",
    "promt = \"can you cite me sura 18 from quran?\"\n",
    "client.start_new_chat(prepromt, promt)"
   ]
  },
  {
   "cell_type": "code",
   "execution_count": null,
   "metadata": {},
   "outputs": [],
   "source": []
  }
 ],
 "metadata": {
  "kernelspec": {
   "display_name": "venv",
   "language": "python",
   "name": "python3"
  },
  "language_info": {
   "codemirror_mode": {
    "name": "ipython",
    "version": 3
   },
   "file_extension": ".py",
   "mimetype": "text/x-python",
   "name": "python",
   "nbconvert_exporter": "python",
   "pygments_lexer": "ipython3",
   "version": "3.11.1"
  },
  "orig_nbformat": 4,
  "vscode": {
   "interpreter": {
    "hash": "c7fc0a4e5824698413d632c50cc3eb90514ad3cfa436eb2a75f5b4b7e3dcf759"
   }
  }
 },
 "nbformat": 4,
 "nbformat_minor": 2
}
